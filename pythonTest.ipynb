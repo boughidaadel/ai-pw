{
 "cells": [
  {
   "cell_type": "code",
   "execution_count": null,
   "id": "d8267c42-766f-4bed-92f3-051444e62a9c",
   "metadata": {},
   "outputs": [],
   "source": []
  },
  {
   "cell_type": "code",
   "execution_count": 6,
   "id": "75e8ccba-73f1-491c-a239-a7308024ab28",
   "metadata": {},
   "outputs": [
    {
     "name": "stdout",
     "output_type": "stream",
     "text": [
      "dict_keys(['first_name', 'last_name', 'age', 'email'])\n",
      "dict_values(['Nazim', 'Boughida', 31, 'boughida.adil@gmail.com'])\n",
      "dict_items([('first_name', 'Nazim'), ('last_name', 'Boughida'), ('age', 31), ('email', 'boughida.adil@gmail.com')])\n",
      "{}\n"
     ]
    }
   ],
   "source": [
    "print(person_info.keys()) # Output: ['first_name', 'last_name', 'age', 'email']\n",
    "print(person_info.values()) # Output: ['Nazim', 'Boughida', 31, 'boughida.adil@gmail.com']\n",
    "print(person_info.items()) # ('first_name', 'Nazim'), ('last_name', 'Boughida'), ('age', 31), ('email', 'boughida.adil@gmail.com')]\n",
    "person_info.clear()\n",
    "print(person_info) # Output: {} \n"
   ]
  },
  {
   "cell_type": "code",
   "execution_count": 5,
   "id": "002c6349-a2f6-49f5-813b-4316cb0c98da",
   "metadata": {
    "scrolled": true
   },
   "outputs": [
    {
     "name": "stdout",
     "output_type": "stream",
     "text": [
      "Adel\n",
      "Nazim\n",
      "{'first_name': 'Nazim', 'last_name': 'Boughida', 'age': 31, 'email': 'boughida.adil@gmail.com'}\n"
     ]
    }
   ],
   "source": [
    "print(person_info['first_name'])   # Output: Adel\n",
    "person_info['first_name'] = 'Nazim'\n",
    "print(person_info['first_name'])  # Output: Nazim\n",
    "person_info['email'] = 'boughida.adil@gmail.com'\n",
    "print(person_info)  # Output: {'first_name': 'Nazim', 'last_name': 'Boughida', 'age': 31, 'email': 'boughida.adil@gmail.com'}"
   ]
  },
  {
   "cell_type": "code",
   "execution_count": 14,
   "id": "117e045d-ab8a-4c7f-bb09-b2b009abdfdc",
   "metadata": {},
   "outputs": [
    {
     "name": "stdout",
     "output_type": "stream",
     "text": [
      "0\n",
      "2\n",
      "4\n",
      "6\n",
      "8\n"
     ]
    }
   ],
   "source": [
    "print(person_info.keys())           # Output: ['first_name', 'last_name', 'age']\n",
    "print(person_info.values())         # Output: ['Adel', 'Boughida', 31]"
   ]
  },
  {
   "cell_type": "code",
   "execution_count": 8,
   "id": "07c70cdc-4528-4ea4-86a4-3cdf295427f7",
   "metadata": {},
   "outputs": [
    {
     "name": "stdout",
     "output_type": "stream",
     "text": [
      "Python\n",
      "42\n",
      "AI\n"
     ]
    }
   ],
   "source": [
    "my_set = {'Python', 42, 'AI'}\n",
    "\n",
    "for element in my_set:\n",
    "    print(element)  # Iterates over the set\n"
   ]
  },
  {
   "cell_type": "code",
   "execution_count": 9,
   "id": "04f79052-80c2-4874-abfe-d70ea296045f",
   "metadata": {},
   "outputs": [],
   "source": [
    "my_set.add(43)"
   ]
  },
  {
   "cell_type": "code",
   "execution_count": 10,
   "id": "f6676c92-8312-4743-9b52-534092f066c6",
   "metadata": {},
   "outputs": [
    {
     "data": {
      "text/plain": [
       "{42, 43, 'AI', 'Python'}"
      ]
     },
     "execution_count": 10,
     "metadata": {},
     "output_type": "execute_result"
    }
   ],
   "source": [
    "my_set"
   ]
  },
  {
   "cell_type": "code",
   "execution_count": 11,
   "id": "347c01fe-a773-415b-a43d-b150212fc511",
   "metadata": {},
   "outputs": [],
   "source": [
    "i = 5"
   ]
  },
  {
   "cell_type": "code",
   "execution_count": 12,
   "id": "06a50ae8-8ea2-4783-8b8e-d5aa05831f15",
   "metadata": {},
   "outputs": [
    {
     "ename": "SyntaxError",
     "evalue": "invalid syntax (1074925126.py, line 1)",
     "output_type": "error",
     "traceback": [
      "\u001b[1;36m  Cell \u001b[1;32mIn[12], line 1\u001b[1;36m\u001b[0m\n\u001b[1;33m    i++\u001b[0m\n\u001b[1;37m       ^\u001b[0m\n\u001b[1;31mSyntaxError\u001b[0m\u001b[1;31m:\u001b[0m invalid syntax\n"
     ]
    }
   ],
   "source": [
    "i++"
   ]
  },
  {
   "cell_type": "code",
   "execution_count": 15,
   "id": "ff14c27d-ea60-42ef-81e5-e3e252e4ac13",
   "metadata": {},
   "outputs": [
    {
     "name": "stdout",
     "output_type": "stream",
     "text": [
      "True\n",
      "True\n"
     ]
    }
   ],
   "source": [
    "result = 'Python' in ['Java', 'Python', 'C++']\n",
    "print(result)  # Output: True\n",
    "result = 'Ruby'  not in ['Java', 'Python', 'C++']\n",
    "print(result)  # Output: True"
   ]
  },
  {
   "cell_type": "code",
   "execution_count": 20,
   "id": "a89809ab-0501-4849-91e8-ca19272505fe",
   "metadata": {},
   "outputs": [
    {
     "name": "stdout",
     "output_type": "stream",
     "text": [
      "True\n"
     ]
    }
   ],
   "source": [
    "a = [1, 2, 3]\n",
    "b = a\n",
    "result = a is b\n",
    "print(result)  # Output: True"
   ]
  },
  {
   "cell_type": "code",
   "execution_count": 22,
   "id": "96823736-ccc4-48b4-a896-031276f2e613",
   "metadata": {},
   "outputs": [
    {
     "name": "stdout",
     "output_type": "stream",
     "text": [
      "False\n"
     ]
    }
   ],
   "source": [
    "a = [1, 2, 3]\n",
    "b = [1, 2, 3]\n",
    "result = a is b\n",
    "print(result)  # Output: True"
   ]
  },
  {
   "cell_type": "code",
   "execution_count": 29,
   "id": "427cb05f-e799-4945-859b-d770c0ba7332",
   "metadata": {},
   "outputs": [],
   "source": [
    "list = range(10)"
   ]
  },
  {
   "cell_type": "code",
   "execution_count": 30,
   "id": "308b9f16-81ac-4047-b834-9910ff493802",
   "metadata": {},
   "outputs": [
    {
     "data": {
      "text/plain": [
       "2"
      ]
     },
     "execution_count": 30,
     "metadata": {},
     "output_type": "execute_result"
    }
   ],
   "source": [
    "list.index(2)"
   ]
  },
  {
   "cell_type": "code",
   "execution_count": 34,
   "id": "64f73640-a616-4391-93ac-e3cf7bdaeba7",
   "metadata": {},
   "outputs": [
    {
     "data": {
      "text/plain": [
       "9"
      ]
     },
     "execution_count": 34,
     "metadata": {},
     "output_type": "execute_result"
    }
   ],
   "source": [
    "list[9]"
   ]
  },
  {
   "cell_type": "code",
   "execution_count": 35,
   "id": "d5e624a7-9511-451c-a5a9-0c4ecccfdb6c",
   "metadata": {},
   "outputs": [
    {
     "ename": "AttributeError",
     "evalue": "'range' object has no attribute 'append'",
     "output_type": "error",
     "traceback": [
      "\u001b[1;31m---------------------------------------------------------------------------\u001b[0m",
      "\u001b[1;31mAttributeError\u001b[0m                            Traceback (most recent call last)",
      "Cell \u001b[1;32mIn[35], line 1\u001b[0m\n\u001b[1;32m----> 1\u001b[0m \u001b[38;5;28mlist\u001b[39m\u001b[38;5;241m.\u001b[39mappend(\u001b[38;5;241m10\u001b[39m)\n",
      "\u001b[1;31mAttributeError\u001b[0m: 'range' object has no attribute 'append'"
     ]
    }
   ],
   "source": [
    "list.append(10)"
   ]
  },
  {
   "cell_type": "code",
   "execution_count": 36,
   "id": "f44e4fff-0390-485d-9393-50f7b94c9b0c",
   "metadata": {},
   "outputs": [],
   "source": [
    "a = \"adel\""
   ]
  },
  {
   "cell_type": "code",
   "execution_count": 39,
   "id": "9bb0619c-64b4-4a85-ab5b-699ce2bbffde",
   "metadata": {},
   "outputs": [
    {
     "ename": "AttributeError",
     "evalue": "'str' object has no attribute 'append'",
     "output_type": "error",
     "traceback": [
      "\u001b[1;31m---------------------------------------------------------------------------\u001b[0m",
      "\u001b[1;31mAttributeError\u001b[0m                            Traceback (most recent call last)",
      "Cell \u001b[1;32mIn[39], line 1\u001b[0m\n\u001b[1;32m----> 1\u001b[0m a\u001b[38;5;241m.\u001b[39mappend(\u001b[38;5;124m'\u001b[39m\u001b[38;5;124ma\u001b[39m\u001b[38;5;124m'\u001b[39m)\n",
      "\u001b[1;31mAttributeError\u001b[0m: 'str' object has no attribute 'append'"
     ]
    }
   ],
   "source": [
    "a.append('a')"
   ]
  },
  {
   "cell_type": "code",
   "execution_count": 40,
   "id": "f7880450-f26a-412c-8e85-45838e8509fd",
   "metadata": {},
   "outputs": [],
   "source": [
    "a = [1, 2, 3]"
   ]
  },
  {
   "cell_type": "code",
   "execution_count": 41,
   "id": "096ade9e-e93c-455f-a6ad-96e3dc992226",
   "metadata": {},
   "outputs": [],
   "source": [
    "b = {1, 2, 3}"
   ]
  },
  {
   "cell_type": "code",
   "execution_count": 42,
   "id": "855f7f30-3fa6-41dd-8056-6e36bbccf8fb",
   "metadata": {},
   "outputs": [],
   "source": [
    "a.extend(b)"
   ]
  },
  {
   "cell_type": "code",
   "execution_count": 47,
   "id": "898b5331-21ca-43a5-bf85-d55ef688d675",
   "metadata": {},
   "outputs": [
    {
     "ename": "TypeError",
     "evalue": "'<' not supported between instances of 'list' and 'int'",
     "output_type": "error",
     "traceback": [
      "\u001b[1;31m---------------------------------------------------------------------------\u001b[0m",
      "\u001b[1;31mTypeError\u001b[0m                                 Traceback (most recent call last)",
      "Cell \u001b[1;32mIn[47], line 1\u001b[0m\n\u001b[1;32m----> 1\u001b[0m \u001b[38;5;28mmin\u001b[39m([\u001b[38;5;241m1\u001b[39m,\u001b[38;5;241m2\u001b[39m, [\u001b[38;5;241m0\u001b[39m, \u001b[38;5;241m5\u001b[39m]])\n",
      "\u001b[1;31mTypeError\u001b[0m: '<' not supported between instances of 'list' and 'int'"
     ]
    }
   ],
   "source": [
    "min([1,2, [0, 5]])"
   ]
  },
  {
   "cell_type": "code",
   "execution_count": 48,
   "id": "2753a72e-e1ac-41c5-8b93-ea8ce65497f2",
   "metadata": {},
   "outputs": [],
   "source": [
    "a = \"adel\""
   ]
  },
  {
   "cell_type": "code",
   "execution_count": 49,
   "id": "60965ca5-225b-4b7a-8cb8-38fa68d3d80e",
   "metadata": {},
   "outputs": [
    {
     "data": {
      "text/plain": [
       "'l'"
      ]
     },
     "execution_count": 49,
     "metadata": {},
     "output_type": "execute_result"
    }
   ],
   "source": [
    "max(a)"
   ]
  },
  {
   "cell_type": "code",
   "execution_count": null,
   "id": "bfd7079e-bb56-4aa3-8d2f-e1481593ce20",
   "metadata": {},
   "outputs": [],
   "source": []
  }
 ],
 "metadata": {
  "kernelspec": {
   "display_name": "Python 3 (ipykernel)",
   "language": "python",
   "name": "python3"
  },
  "language_info": {
   "codemirror_mode": {
    "name": "ipython",
    "version": 3
   },
   "file_extension": ".py",
   "mimetype": "text/x-python",
   "name": "python",
   "nbconvert_exporter": "python",
   "pygments_lexer": "ipython3",
   "version": "3.11.5"
  }
 },
 "nbformat": 4,
 "nbformat_minor": 5
}
